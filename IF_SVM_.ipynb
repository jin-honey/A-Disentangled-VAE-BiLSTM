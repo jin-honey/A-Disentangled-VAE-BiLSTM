{
  "nbformat": 4,
  "nbformat_minor": 0,
  "metadata": {
    "colab": {
      "provenance": [],
      "gpuType": "T4",
      "authorship_tag": "ABX9TyMTIHb+PwSM/5Hpucd9lKPo",
      "include_colab_link": true
    },
    "kernelspec": {
      "name": "python3",
      "display_name": "Python 3"
    },
    "language_info": {
      "name": "python"
    },
    "accelerator": "GPU"
  },
  "cells": [
    {
      "cell_type": "markdown",
      "metadata": {
        "id": "view-in-github",
        "colab_type": "text"
      },
      "source": [
        "<a href=\"https://colab.research.google.com/github/jin-honey/A-Disentangled-VAE-BiLSTM/blob/main/IF_SVM_.ipynb\" target=\"_parent\"><img src=\"https://colab.research.google.com/assets/colab-badge.svg\" alt=\"Open In Colab\"/></a>"
      ]
    },
    {
      "cell_type": "code",
      "execution_count": null,
      "metadata": {
        "colab": {
          "base_uri": "https://localhost:8080/"
        },
        "id": "RVZmjnwF_gCn",
        "outputId": "b9747e6a-aaf0-4d00-9d2d-f05700655ad7"
      },
      "outputs": [
        {
          "output_type": "stream",
          "name": "stdout",
          "text": [
            "Mounted at /content/drive\n"
          ]
        }
      ],
      "source": [
        "from google.colab import drive\n",
        "drive.mount('/content/drive')"
      ]
    },
    {
      "cell_type": "code",
      "source": [
        "## IF 데이터 라벨링\n",
        "\n",
        "import pandas as pd\n",
        "from sklearn.preprocessing import OneHotEncoder, MinMaxScaler\n",
        "from sklearn.ensemble import IsolationForest\n",
        "\n",
        "# 데이터 불러오기\n",
        "file_path = '/content/drive/MyDrive/ss.csv'\n",
        "data = pd.read_csv(file_path)\n",
        "\n",
        "\n",
        "# 사용할 컬럼만 선택\n",
        "features = data[[\"Sleep Duration\", \"BMI Category\", \"Blood Pressure\", \"Heart Rate\", \"Daily Steps\"]].copy()\n",
        "\n",
        "# Blood Pressure를 systolic/diastolic로 분리\n",
        "features[[\"Systolic\", \"Diastolic\"]] = features[\"Blood Pressure\"].str.split(\"/\", expand=True).astype(float)\n",
        "features.drop(\"Blood Pressure\", axis=1, inplace=True)\n",
        "\n",
        "# 원-핫 인코딩: BMI Category\n",
        "features = pd.get_dummies(features, columns=[\"BMI Category\"], drop_first=True)\n",
        "\n",
        "# 결측값 처리\n",
        "features.fillna(features.mean(numeric_only=True), inplace=True)\n",
        "\n",
        "# 정규화 (Min-Max Scaling)\n",
        "scaler = MinMaxScaler()\n",
        "features_scaled = scaler.fit_transform(features)\n",
        "\n",
        "# Isolation Forest 적용\n",
        "iso_forest = IsolationForest(n_estimators=100, contamination=0.1, random_state=42)\n",
        "labels = iso_forest.fit_predict(features_scaled)\n",
        "\n",
        "# 라벨 추가 (-1: 이상, 1: 정상)\n",
        "data[\"Anomaly_Label\"] = labels\n",
        "\n",
        "# 결과 확인\n",
        "print(data[[\"Person ID\", \"Anomaly_Label\"]])"
      ],
      "metadata": {
        "colab": {
          "base_uri": "https://localhost:8080/"
        },
        "id": "xU05OBcK_m2u",
        "outputId": "1068c7c5-6cf4-42b4-9853-81df6d129993"
      },
      "execution_count": null,
      "outputs": [
        {
          "output_type": "stream",
          "name": "stdout",
          "text": [
            "     Person ID  Anomaly_Label\n",
            "0            1             -1\n",
            "1            2             -1\n",
            "2            3             -1\n",
            "3            4             -1\n",
            "4            5             -1\n",
            "..         ...            ...\n",
            "369        370              1\n",
            "370        371              1\n",
            "371        372              1\n",
            "372        373              1\n",
            "373        374             -1\n",
            "\n",
            "[374 rows x 2 columns]\n"
          ]
        }
      ]
    },
    {
      "cell_type": "code",
      "source": [
        "## SVM 이상탐지\n",
        "\n",
        "from sklearn.model_selection import train_test_split\n",
        "from sklearn.svm import SVC\n",
        "from sklearn.metrics import classification_report, confusion_matrix\n",
        "import matplotlib.pyplot as plt\n",
        "import seaborn as sns\n",
        "\n",
        "# 특성과 라벨 정의\n",
        "X = features_scaled  # 이미 정규화된 데이터 사용\n",
        "y = (data[\"Anomaly_Label\"] == -1).astype(int)  # 이상: 1, 정상: 0\n",
        "\n",
        "# 데이터 분할 (학습용: 70%, 테스트용: 30%)\n",
        "X_train, X_test, y_train, y_test = train_test_split(X, y, test_size=0.3, random_state=42)\n",
        "\n",
        "# SVM 분류기 정의 및 학습\n",
        "svm_clf = SVC(kernel='rbf', gamma='scale', random_state=42)\n",
        "svm_clf.fit(X_train, y_train)\n",
        "\n",
        "# 예측\n",
        "y_pred = svm_clf.predict(X_test)\n",
        "\n",
        "# 평가 결과 출력\n",
        "print(\"Classification Report:\")\n",
        "print(classification_report(y_test, y_pred))\n",
        "\n",
        "# 혼동 행렬 시각화\n",
        "conf_matrix = confusion_matrix(y_test, y_pred)\n",
        "plt.figure(figsize=(6,4))\n",
        "sns.heatmap(conf_matrix, annot=True, fmt='d', cmap=\"Blues\", xticklabels=[\"Normal\", \"Anomaly\"], yticklabels=[\"Normal\", \"Anomaly\"])\n",
        "plt.xlabel(\"Predicted\")\n",
        "plt.ylabel(\"Actual\")\n",
        "plt.title(\"Confusion Matrix\")\n",
        "plt.show()"
      ],
      "metadata": {
        "colab": {
          "base_uri": "https://localhost:8080/",
          "height": 580
        },
        "id": "6nUGqoIO_w-N",
        "outputId": "31d98296-d9a6-492f-be15-15d9a354a4e8"
      },
      "execution_count": null,
      "outputs": [
        {
          "output_type": "stream",
          "name": "stdout",
          "text": [
            "Classification Report:\n",
            "              precision    recall  f1-score   support\n",
            "\n",
            "           0       0.99      0.97      0.98       106\n",
            "           1       0.67      0.86      0.75         7\n",
            "\n",
            "    accuracy                           0.96       113\n",
            "   macro avg       0.83      0.91      0.87       113\n",
            "weighted avg       0.97      0.96      0.97       113\n",
            "\n"
          ]
        },
        {
          "output_type": "display_data",
          "data": {
            "text/plain": [
              "<Figure size 600x400 with 2 Axes>"
            ],
            "image/png": "[encoded data removed]"
          },
          "metadata": {}
        }
      ]
    },
    {
      "cell_type": "code",
      "source": [
        "from sklearn.model_selection import train_test_split\n",
        "from sklearn.svm import SVC\n",
        "from sklearn.metrics import classification_report, confusion_matrix\n",
        "import matplotlib.pyplot as plt\n",
        "import seaborn as sns\n",
        "import pandas as pd\n",
        "import numpy as np\n",
        "\n",
        "# ------------------ SVM 훈련 ------------------\n",
        "# 특성과 라벨 정의\n",
        "X = features_scaled\n",
        "y = (data[\"Anomaly_Label\"] == -1).astype(int)  # 이상: 1, 정상: 0\n",
        "\n",
        "# 데이터 분할\n",
        "X_train, X_test, y_train, y_test = train_test_split(X, y, test_size=0.3, random_state=42)\n",
        "\n",
        "# ✅ SVM 분류기 (확률 출력 가능하도록)\n",
        "svm_clf = SVC(kernel='rbf', gamma='scale', probability=True, random_state=42)\n",
        "svm_clf.fit(X_train, y_train)\n",
        "\n",
        "# 예측\n",
        "y_pred = svm_clf.predict(X_test)\n",
        "\n",
        "# 평가 출력\n",
        "print(\"Classification Report:\")\n",
        "print(classification_report(y_test, y_pred))\n",
        "\n",
        "# 혼동 행렬\n",
        "conf_matrix = confusion_matrix(y_test, y_pred)\n",
        "plt.figure(figsize=(6,4))\n",
        "sns.heatmap(conf_matrix, annot=True, fmt='d', cmap=\"Blues\", xticklabels=[\"Normal\", \"Anomaly\"], yticklabels=[\"Normal\", \"Anomaly\"])\n",
        "plt.xlabel(\"Predicted\")\n",
        "plt.ylabel(\"Actual\")\n",
        "plt.title(\"Confusion Matrix\")\n",
        "plt.show()\n",
        "\n",
        "# ------------------ 예시 예측 ------------------\n",
        "# 예시 입력 데이터\n",
        "example_input = {\n",
        "    \"Sleep Duration\": 6.5,\n",
        "    \"BMI Category\": \"Normal\",  # Normal / Overweight / Obese\n",
        "    \"Blood Pressure\": \"120/80\",\n",
        "    \"Heart Rate\": 88,\n",
        "    \"Daily Steps\": 6000\n",
        "}\n",
        "\n",
        "# 1. 데이터프레임 변환\n",
        "example_df = pd.DataFrame([example_input])\n",
        "\n",
        "# 2. 혈압 분리\n",
        "example_df[[\"Systolic\", \"Diastolic\"]] = example_df[\"Blood Pressure\"].str.split(\"/\", expand=True).astype(float)\n",
        "example_df.drop(\"Blood Pressure\", axis=1, inplace=True)\n",
        "\n",
        "# 3. BMI 원-핫 인코딩\n",
        "example_df = pd.get_dummies(example_df, columns=[\"BMI Category\"], drop_first=True)\n",
        "for col in [col for col in features.columns if 'BMI Category_' in col]:\n",
        "    if col not in example_df.columns:\n",
        "        example_df[col] = 0\n",
        "example_df = example_df[features.columns]\n",
        "\n",
        "# 4. 정규화\n",
        "example_scaled = scaler.transform(example_df)\n",
        "\n",
        "# 5. SVM 예측 + 건강 점수 계산\n",
        "proba = svm_clf.predict_proba(example_scaled)[0]     # [정상확률, 이상확률]\n",
        "anomaly_prob = proba[1]                              # 이상일 확률\n",
        "health_score = round((1 - anomaly_prob) * 100, 2)    # 건강 점수 (정상 확률 * 100)\n",
        "\n",
        "# 6. 최종 예측 결과 출력\n",
        "prediction = svm_clf.predict(example_scaled)[0]\n",
        "print(f\"\\n건강 점수 (SVM 기반): {health_score} / 100\")\n",
        "if prediction == 1:\n",
        "    print(\"예측 결과: 이상(anomaly)으로 감지되었습니다.\")\n",
        "else:\n",
        "    print(\"예측 결과: 정상(normal)으로 감지되었습니다.\")"
      ],
      "metadata": {
        "colab": {
          "base_uri": "https://localhost:8080/",
          "height": 631
        },
        "id": "ySwGcxOG_yjA",
        "outputId": "229548a5-d3a0-4772-c0cb-0fc80de7244d"
      },
      "execution_count": null,
      "outputs": [
        {
          "output_type": "stream",
          "name": "stdout",
          "text": [
            "Classification Report:\n",
            "              precision    recall  f1-score   support\n",
            "\n",
            "           0       0.99      0.97      0.98       106\n",
            "           1       0.67      0.86      0.75         7\n",
            "\n",
            "    accuracy                           0.96       113\n",
            "   macro avg       0.83      0.91      0.87       113\n",
            "weighted avg       0.97      0.96      0.97       113\n",
            "\n"
          ]
        },
        {
          "output_type": "display_data",
          "data": {
            "text/plain": [
              "<Figure size 600x400 with 2 Axes>"
            ],
            "image/png": "[encoded data removed]"
          },
          "metadata": {}
        },
        {
          "output_type": "stream",
          "name": "stdout",
          "text": [
            "\n",
            "🧠 건강 점수 (SVM 기반): 60.55 / 100\n",
            "🟢 예측 결과: 정상(normal)으로 감지되었습니다.\n"
          ]
        }
      ]
    }
  ]
}